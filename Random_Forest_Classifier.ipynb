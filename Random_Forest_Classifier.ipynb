{
 "cells": [
  {
   "cell_type": "code",
   "execution_count": 1,
   "metadata": {
    "ExecuteTime": {
     "end_time": "2024-03-31T00:28:00.060318Z",
     "start_time": "2024-03-31T00:27:54.007775Z"
    }
   },
   "outputs": [],
   "source": [
    "import numpy as np\n",
    "import pandas as pd\n",
    "import matplotlib.pyplot as plt\n",
    "from sklearn.ensemble import RandomForestClassifier\n",
    "from sklearn.svm import SVC\n",
    "from sklearn.metrics import accuracy_score, classification_report, precision_score, recall_score\n",
    "from sklearn.model_selection import train_test_split, RandomizedSearchCV\n",
    "from scipy.stats import randint\n",
    "\n",
    "# Set random seed\n",
    "random_seed = 36"
   ]
  },
  {
   "cell_type": "markdown",
   "metadata": {},
   "source": [
    "### Closed World Dataset model training\n",
    "\n",
    "## Background\n",
    "The Darknet dataset contains metrics measured from packet captures detailing diffirent types of traffic. It includes A mix of VPN, Tor, and regular traffic and we want to train a model to classify these different types of traffic.\n",
    "\n",
    "## Setup\n",
    "- We are loading the dataset in and splitting it into training and testing sets\n",
    "- X is the features ('Flow Duration', 'Total Fwd Packet', 'Total Bwd packets', 'Bwd Init Win Bytes', 'FWD Init Win Bytes')\n",
    "- y is the class ('Tor Traffic', 'other')\n",
    "- using the train_test_split function we can easily split the data into training and testing cases "
   ]
  },
  {
   "cell_type": "code",
   "execution_count": 2,
   "metadata": {
    "ExecuteTime": {
     "end_time": "2024-03-31T00:28:00.091682Z",
     "start_time": "2024-03-31T00:28:00.060885Z"
    }
   },
   "outputs": [],
   "source": [
    "darknet_data = pd.read_csv('allTraffic.csv')\n",
    "\n",
    "# Drop columns that aren't useful to us\n",
    "features = ['FlowDuration', 'TotalFwdPackets', 'TotalBwdPackets', 'BwdInitWinBytes', 'FwdInitWinBytes']\n",
    "dim = len(features)\n",
    "X = darknet_data[features]\n",
    "y = darknet_data['Label']\n",
    "\n",
    "X_train, X_test, y_train, y_test = train_test_split(X, y, test_size=0.2, random_state=random_seed)"
   ]
  },
  {
   "cell_type": "code",
   "execution_count": 3,
   "metadata": {
    "ExecuteTime": {
     "end_time": "2024-03-31T00:28:00.100536Z",
     "start_time": "2024-03-31T00:28:00.091846Z"
    }
   },
   "outputs": [],
   "source": [
    "# Define the hyperparameter space (possible values to try for each hyperparameter)\n",
    "param_dist = {\n",
    "                'n_estimators': randint(50,500),\n",
    "                'max_depth': randint(1,20),\n",
    "             }\n",
    "\n",
    "# Train a Random Forest classifier\n",
    "# if we wanted to optimize the hyperparameters, we could use a RandomizedSearchCV\n",
    "# just define the classifier with no hyperparameters\n",
    "# clf = RandomForestClassifier(n_estimators=460, max_depth=12, random_state=random_seed)\n",
    "clf = RandomForestClassifier(random_state=random_seed)\n",
    "rand_search = RandomizedSearchCV(clf,\n",
    "                                 param_distributions=param_dist,\n",
    "                                 n_iter=3,\n",
    "                                 cv=3)\n",
    "\n"
   ]
  },
  {
   "cell_type": "markdown",
   "metadata": {},
   "source": [
    "## Training \n",
    "1. First we define the algorithm we will use to train the model, in this case the RandomForestClassifier\n",
    "2. Next we train the model with training sets "
   ]
  },
  {
   "cell_type": "code",
   "execution_count": 4,
   "metadata": {
    "ExecuteTime": {
     "end_time": "2024-03-31T00:28:04.309236Z",
     "start_time": "2024-03-31T00:28:00.101568Z"
    }
   },
   "outputs": [],
   "source": [
    "from joblib import parallel_backend\n",
    "with parallel_backend('threading'):\n",
    "    # Fit the model to our training data\n",
    "    rand_search.fit(X_train, y_train)\n",
    "\n",
    "    # optimal hyperparameters\n",
    "    best = rand_search.best_estimator_\n",
    "\n",
    "    # Fit the optimal model to our training data\n",
    "    best.fit(X_train, y_train)"
   ]
  },
  {
   "cell_type": "code",
   "execution_count": 5,
   "metadata": {
    "ExecuteTime": {
     "end_time": "2024-03-31T00:28:04.395800Z",
     "start_time": "2024-03-31T00:28:04.316255Z"
    }
   },
   "outputs": [
    {
     "name": "stdout",
     "output_type": "stream",
     "text": [
      "0.9239130434782609 \n",
      "               precision    recall  f1-score   support\n",
      "\n",
      "     Non-Tor       0.92      0.99      0.95        73\n",
      "         Tor       0.93      0.68      0.79        19\n",
      "\n",
      "    accuracy                           0.92        92\n",
      "   macro avg       0.93      0.84      0.87        92\n",
      "weighted avg       0.92      0.92      0.92        92\n"
     ]
    }
   ],
   "source": [
    "\n",
    "# This line is if we want to use the RandomizedSearchCV to find the best hyperparameters\n",
    "from joblib import parallel_backend\n",
    "with parallel_backend('threading'):\n",
    "    # Predict values of y_test on the X_test set\n",
    "    y_pred = best.predict(X_test)\n",
    "\n",
    "# Evaluate the model's accuracy\n",
    "accuracy = accuracy_score(y_test, y_pred)\n",
    "classification_rep = classification_report(y_test, y_pred)\n",
    "\n",
    "print(accuracy, \"\\n\", classification_rep)\n"
   ]
  },
  {
   "cell_type": "code",
   "execution_count": 6,
   "metadata": {
    "ExecuteTime": {
     "end_time": "2024-03-31T00:28:05.413632Z",
     "start_time": "2024-03-31T00:28:04.400528Z"
    }
   },
   "outputs": [
    {
     "data": {
      "image/svg+xml": "<?xml version=\"1.0\" encoding=\"UTF-8\" standalone=\"no\"?>\n<!DOCTYPE svg PUBLIC \"-//W3C//DTD SVG 1.1//EN\"\n \"http://www.w3.org/Graphics/SVG/1.1/DTD/svg11.dtd\">\n<!-- Generated by graphviz version 2.50.0 (0)\n -->\n<!-- Title: Tree Pages: 1 -->\n<svg width=\"411pt\" height=\"311pt\"\n viewBox=\"0.00 0.00 410.50 311.00\" xmlns=\"http://www.w3.org/2000/svg\" xmlns:xlink=\"http://www.w3.org/1999/xlink\">\n<g id=\"graph0\" class=\"graph\" transform=\"scale(1 1) rotate(0) translate(4 307)\">\n<title>Tree</title>\n<polygon fill=\"white\" stroke=\"transparent\" points=\"-4,4 -4,-307 406.5,-307 406.5,4 -4,4\"/>\n<!-- 0 -->\n<g id=\"node1\" class=\"node\">\n<title>0</title>\n<polygon fill=\"#eca36f\" stroke=\"black\" points=\"235,-303 51,-303 51,-250 235,-250 235,-303\"/>\n<text text-anchor=\"middle\" x=\"143\" y=\"-287.8\" font-family=\"Helvetica,sans-Serif\" font-size=\"14.00\">BwdInitWinBytes &lt;= 2016.5</text>\n<text text-anchor=\"middle\" x=\"143\" y=\"-272.8\" font-family=\"Helvetica,sans-Serif\" font-size=\"14.00\">samples = 100.0%</text>\n<text text-anchor=\"middle\" x=\"143\" y=\"-257.8\" font-family=\"Helvetica,sans-Serif\" font-size=\"14.00\">value = [0.787, 0.213]</text>\n</g>\n<!-- 1 -->\n<g id=\"node2\" class=\"node\">\n<title>1</title>\n<polygon fill=\"#e58139\" stroke=\"black\" points=\"122,-206.5 0,-206.5 0,-168.5 122,-168.5 122,-206.5\"/>\n<text text-anchor=\"middle\" x=\"61\" y=\"-191.3\" font-family=\"Helvetica,sans-Serif\" font-size=\"14.00\">samples = 32.5%</text>\n<text text-anchor=\"middle\" x=\"61\" y=\"-176.3\" font-family=\"Helvetica,sans-Serif\" font-size=\"14.00\">value = [1.0, 0.0]</text>\n</g>\n<!-- 0&#45;&gt;1 -->\n<g id=\"edge1\" class=\"edge\">\n<title>0&#45;&gt;1</title>\n<path fill=\"none\" stroke=\"black\" d=\"M118.84,-249.87C108.17,-238.55 95.66,-225.27 85,-213.97\"/>\n<polygon fill=\"black\" stroke=\"black\" points=\"87.38,-211.38 77.97,-206.51 82.28,-216.18 87.38,-211.38\"/>\n<text text-anchor=\"middle\" x=\"77.23\" y=\"-227.8\" font-family=\"Helvetica,sans-Serif\" font-size=\"14.00\">True</text>\n</g>\n<!-- 2 -->\n<g id=\"node3\" class=\"node\">\n<title>2</title>\n<polygon fill=\"#f1bd98\" stroke=\"black\" points=\"309.5,-214 140.5,-214 140.5,-161 309.5,-161 309.5,-214\"/>\n<text text-anchor=\"middle\" x=\"225\" y=\"-198.8\" font-family=\"Helvetica,sans-Serif\" font-size=\"14.00\">TotalFwdPackets &lt;= 14.5</text>\n<text text-anchor=\"middle\" x=\"225\" y=\"-183.8\" font-family=\"Helvetica,sans-Serif\" font-size=\"14.00\">samples = 67.5%</text>\n<text text-anchor=\"middle\" x=\"225\" y=\"-168.8\" font-family=\"Helvetica,sans-Serif\" font-size=\"14.00\">value = [0.676, 0.324]</text>\n</g>\n<!-- 0&#45;&gt;2 -->\n<g id=\"edge2\" class=\"edge\">\n<title>0&#45;&gt;2</title>\n<path fill=\"none\" stroke=\"black\" d=\"M167.16,-249.87C175.51,-241.01 184.99,-230.95 193.82,-221.58\"/>\n<polygon fill=\"black\" stroke=\"black\" points=\"196.42,-223.93 200.73,-214.25 191.32,-219.13 196.42,-223.93\"/>\n<text text-anchor=\"middle\" x=\"201.47\" y=\"-235.54\" font-family=\"Helvetica,sans-Serif\" font-size=\"14.00\">False</text>\n</g>\n<!-- 3 -->\n<g id=\"node4\" class=\"node\">\n<title>3</title>\n<polygon fill=\"#e89050\" stroke=\"black\" points=\"223.5,-125 32.5,-125 32.5,-72 223.5,-72 223.5,-125\"/>\n<text text-anchor=\"middle\" x=\"128\" y=\"-109.8\" font-family=\"Helvetica,sans-Serif\" font-size=\"14.00\">FwdInitWinBytes &lt;= 64887.5</text>\n<text text-anchor=\"middle\" x=\"128\" y=\"-94.8\" font-family=\"Helvetica,sans-Serif\" font-size=\"14.00\">samples = 41.0%</text>\n<text text-anchor=\"middle\" x=\"128\" y=\"-79.8\" font-family=\"Helvetica,sans-Serif\" font-size=\"14.00\">value = [0.894, 0.106]</text>\n</g>\n<!-- 2&#45;&gt;3 -->\n<g id=\"edge3\" class=\"edge\">\n<title>2&#45;&gt;3</title>\n<path fill=\"none\" stroke=\"black\" d=\"M196.42,-160.87C186.35,-151.83 174.89,-141.55 164.26,-132.03\"/>\n<polygon fill=\"black\" stroke=\"black\" points=\"166.49,-129.32 156.71,-125.25 161.82,-134.53 166.49,-129.32\"/>\n</g>\n<!-- 26 -->\n<g id=\"node7\" class=\"node\">\n<title>26</title>\n<polygon fill=\"#aad5f4\" stroke=\"black\" points=\"402.5,-125 241.5,-125 241.5,-72 402.5,-72 402.5,-125\"/>\n<text text-anchor=\"middle\" x=\"322\" y=\"-109.8\" font-family=\"Helvetica,sans-Serif\" font-size=\"14.00\">FlowDuration &lt;= 90.718</text>\n<text text-anchor=\"middle\" x=\"322\" y=\"-94.8\" font-family=\"Helvetica,sans-Serif\" font-size=\"14.00\">samples = 26.5%</text>\n<text text-anchor=\"middle\" x=\"322\" y=\"-79.8\" font-family=\"Helvetica,sans-Serif\" font-size=\"14.00\">value = [0.364, 0.636]</text>\n</g>\n<!-- 2&#45;&gt;26 -->\n<g id=\"edge6\" class=\"edge\">\n<title>2&#45;&gt;26</title>\n<path fill=\"none\" stroke=\"black\" d=\"M253.58,-160.87C263.65,-151.83 275.11,-141.55 285.74,-132.03\"/>\n<polygon fill=\"black\" stroke=\"black\" points=\"288.18,-134.53 293.29,-125.25 283.51,-129.32 288.18,-134.53\"/>\n</g>\n<!-- 4 -->\n<g id=\"node5\" class=\"node\">\n<title>4</title>\n<polygon fill=\"#c0c0c0\" stroke=\"black\" points=\"144,-36 90,-36 90,0 144,0 144,-36\"/>\n<text text-anchor=\"middle\" x=\"117\" y=\"-14.3\" font-family=\"Helvetica,sans-Serif\" font-size=\"14.00\">(...)</text>\n</g>\n<!-- 3&#45;&gt;4 -->\n<g id=\"edge4\" class=\"edge\">\n<title>3&#45;&gt;4</title>\n<path fill=\"none\" stroke=\"black\" d=\"M124.4,-71.8C123.25,-63.62 121.98,-54.55 120.82,-46.27\"/>\n<polygon fill=\"black\" stroke=\"black\" points=\"124.28,-45.75 119.43,-36.33 117.35,-46.72 124.28,-45.75\"/>\n</g>\n<!-- 7 -->\n<g id=\"node6\" class=\"node\">\n<title>7</title>\n<polygon fill=\"#c0c0c0\" stroke=\"black\" points=\"216,-36 162,-36 162,0 216,0 216,-36\"/>\n<text text-anchor=\"middle\" x=\"189\" y=\"-14.3\" font-family=\"Helvetica,sans-Serif\" font-size=\"14.00\">(...)</text>\n</g>\n<!-- 3&#45;&gt;7 -->\n<g id=\"edge5\" class=\"edge\">\n<title>3&#45;&gt;7</title>\n<path fill=\"none\" stroke=\"black\" d=\"M147.97,-71.8C154.82,-62.99 162.47,-53.14 169.3,-44.36\"/>\n<polygon fill=\"black\" stroke=\"black\" points=\"172.16,-46.37 175.53,-36.33 166.63,-42.08 172.16,-46.37\"/>\n</g>\n<!-- 27 -->\n<g id=\"node8\" class=\"node\">\n<title>27</title>\n<polygon fill=\"#c0c0c0\" stroke=\"black\" points=\"318,-36 264,-36 264,0 318,0 318,-36\"/>\n<text text-anchor=\"middle\" x=\"291\" y=\"-14.3\" font-family=\"Helvetica,sans-Serif\" font-size=\"14.00\">(...)</text>\n</g>\n<!-- 26&#45;&gt;27 -->\n<g id=\"edge7\" class=\"edge\">\n<title>26&#45;&gt;27</title>\n<path fill=\"none\" stroke=\"black\" d=\"M311.85,-71.8C308.55,-63.44 304.88,-54.15 301.55,-45.72\"/>\n<polygon fill=\"black\" stroke=\"black\" points=\"304.77,-44.35 297.84,-36.33 298.26,-46.92 304.77,-44.35\"/>\n</g>\n<!-- 40 -->\n<g id=\"node9\" class=\"node\">\n<title>40</title>\n<polygon fill=\"#c0c0c0\" stroke=\"black\" points=\"390,-36 336,-36 336,0 390,0 390,-36\"/>\n<text text-anchor=\"middle\" x=\"363\" y=\"-14.3\" font-family=\"Helvetica,sans-Serif\" font-size=\"14.00\">(...)</text>\n</g>\n<!-- 26&#45;&gt;40 -->\n<g id=\"edge8\" class=\"edge\">\n<title>26&#45;&gt;40</title>\n<path fill=\"none\" stroke=\"black\" d=\"M335.42,-71.8C339.84,-63.35 344.75,-53.95 349.19,-45.45\"/>\n<polygon fill=\"black\" stroke=\"black\" points=\"352.42,-46.81 353.95,-36.33 346.22,-43.57 352.42,-46.81\"/>\n</g>\n</g>\n</svg>\n",
      "text/plain": "<graphviz.sources.Source at 0x7ff1f34c9900>"
     },
     "metadata": {},
     "output_type": "display_data"
    },
    {
     "data": {
      "image/svg+xml": "<?xml version=\"1.0\" encoding=\"UTF-8\" standalone=\"no\"?>\n<!DOCTYPE svg PUBLIC \"-//W3C//DTD SVG 1.1//EN\"\n \"http://www.w3.org/Graphics/SVG/1.1/DTD/svg11.dtd\">\n<!-- Generated by graphviz version 2.50.0 (0)\n -->\n<!-- Title: Tree Pages: 1 -->\n<svg width=\"703pt\" height=\"311pt\"\n viewBox=\"0.00 0.00 702.50 311.00\" xmlns=\"http://www.w3.org/2000/svg\" xmlns:xlink=\"http://www.w3.org/1999/xlink\">\n<g id=\"graph0\" class=\"graph\" transform=\"scale(1 1) rotate(0) translate(4 307)\">\n<title>Tree</title>\n<polygon fill=\"white\" stroke=\"transparent\" points=\"-4,4 -4,-307 698.5,-307 698.5,4 -4,4\"/>\n<!-- 0 -->\n<g id=\"node1\" class=\"node\">\n<title>0</title>\n<polygon fill=\"#eca470\" stroke=\"black\" points=\"455.5,-303 264.5,-303 264.5,-250 455.5,-250 455.5,-303\"/>\n<text text-anchor=\"middle\" x=\"360\" y=\"-287.8\" font-family=\"Helvetica,sans-Serif\" font-size=\"14.00\">FwdInitWinBytes &lt;= 64887.5</text>\n<text text-anchor=\"middle\" x=\"360\" y=\"-272.8\" font-family=\"Helvetica,sans-Serif\" font-size=\"14.00\">samples = 100.0%</text>\n<text text-anchor=\"middle\" x=\"360\" y=\"-257.8\" font-family=\"Helvetica,sans-Serif\" font-size=\"14.00\">value = [0.784, 0.216]</text>\n</g>\n<!-- 1 -->\n<g id=\"node2\" class=\"node\">\n<title>1</title>\n<polygon fill=\"#e99558\" stroke=\"black\" points=\"347.5,-214 156.5,-214 156.5,-161 347.5,-161 347.5,-214\"/>\n<text text-anchor=\"middle\" x=\"252\" y=\"-198.8\" font-family=\"Helvetica,sans-Serif\" font-size=\"14.00\">BwdInitWinBytes &lt;= 12932.0</text>\n<text text-anchor=\"middle\" x=\"252\" y=\"-183.8\" font-family=\"Helvetica,sans-Serif\" font-size=\"14.00\">samples = 79.1%</text>\n<text text-anchor=\"middle\" x=\"252\" y=\"-168.8\" font-family=\"Helvetica,sans-Serif\" font-size=\"14.00\">value = [0.863, 0.137]</text>\n</g>\n<!-- 0&#45;&gt;1 -->\n<g id=\"edge1\" class=\"edge\">\n<title>0&#45;&gt;1</title>\n<path fill=\"none\" stroke=\"black\" d=\"M328.18,-249.87C316.86,-240.75 303.96,-230.35 292.03,-220.75\"/>\n<polygon fill=\"black\" stroke=\"black\" points=\"293.95,-217.8 283.97,-214.25 289.56,-223.25 293.95,-217.8\"/>\n<text text-anchor=\"middle\" x=\"286.64\" y=\"-235.41\" font-family=\"Helvetica,sans-Serif\" font-size=\"14.00\">True</text>\n</g>\n<!-- 40 -->\n<g id=\"node9\" class=\"node\">\n<title>40</title>\n<polygon fill=\"#e6f2fc\" stroke=\"black\" points=\"572,-214 366,-214 366,-161 572,-161 572,-214\"/>\n<text text-anchor=\"middle\" x=\"469\" y=\"-198.8\" font-family=\"Helvetica,sans-Serif\" font-size=\"14.00\">FwdInitWinBytes &lt;= 1740644.5</text>\n<text text-anchor=\"middle\" x=\"469\" y=\"-183.8\" font-family=\"Helvetica,sans-Serif\" font-size=\"14.00\">samples = 20.9%</text>\n<text text-anchor=\"middle\" x=\"469\" y=\"-168.8\" font-family=\"Helvetica,sans-Serif\" font-size=\"14.00\">value = [0.466, 0.534]</text>\n</g>\n<!-- 0&#45;&gt;40 -->\n<g id=\"edge8\" class=\"edge\">\n<title>0&#45;&gt;40</title>\n<path fill=\"none\" stroke=\"black\" d=\"M392.11,-249.87C403.54,-240.75 416.56,-230.35 428.6,-220.75\"/>\n<polygon fill=\"black\" stroke=\"black\" points=\"431.11,-223.22 436.74,-214.25 426.74,-217.75 431.11,-223.22\"/>\n<text text-anchor=\"middle\" x=\"433.95\" y=\"-235.39\" font-family=\"Helvetica,sans-Serif\" font-size=\"14.00\">False</text>\n</g>\n<!-- 2 -->\n<g id=\"node3\" class=\"node\">\n<title>2</title>\n<polygon fill=\"#eca572\" stroke=\"black\" points=\"154,-125 0,-125 0,-72 154,-72 154,-125\"/>\n<text text-anchor=\"middle\" x=\"77\" y=\"-109.8\" font-family=\"Helvetica,sans-Serif\" font-size=\"14.00\">FlowDuration &lt;= 0.107</text>\n<text text-anchor=\"middle\" x=\"77\" y=\"-94.8\" font-family=\"Helvetica,sans-Serif\" font-size=\"14.00\">samples = 45.6%</text>\n<text text-anchor=\"middle\" x=\"77\" y=\"-79.8\" font-family=\"Helvetica,sans-Serif\" font-size=\"14.00\">value = [0.776, 0.224]</text>\n</g>\n<!-- 1&#45;&gt;2 -->\n<g id=\"edge2\" class=\"edge\">\n<title>1&#45;&gt;2</title>\n<path fill=\"none\" stroke=\"black\" d=\"M200.44,-160.87C180.77,-151.09 158.16,-139.85 137.72,-129.68\"/>\n<polygon fill=\"black\" stroke=\"black\" points=\"139.01,-126.42 128.49,-125.1 135.89,-132.69 139.01,-126.42\"/>\n</g>\n<!-- 35 -->\n<g id=\"node6\" class=\"node\">\n<title>35</title>\n<polygon fill=\"#e5833c\" stroke=\"black\" points=\"341.5,-125 172.5,-125 172.5,-72 341.5,-72 341.5,-125\"/>\n<text text-anchor=\"middle\" x=\"257\" y=\"-109.8\" font-family=\"Helvetica,sans-Serif\" font-size=\"14.00\">TotalFwdPackets &lt;= 40.5</text>\n<text text-anchor=\"middle\" x=\"257\" y=\"-94.8\" font-family=\"Helvetica,sans-Serif\" font-size=\"14.00\">samples = 33.5%</text>\n<text text-anchor=\"middle\" x=\"257\" y=\"-79.8\" font-family=\"Helvetica,sans-Serif\" font-size=\"14.00\">value = [0.984, 0.016]</text>\n</g>\n<!-- 1&#45;&gt;35 -->\n<g id=\"edge5\" class=\"edge\">\n<title>1&#45;&gt;35</title>\n<path fill=\"none\" stroke=\"black\" d=\"M253.47,-160.87C253.93,-152.89 254.45,-143.93 254.94,-135.38\"/>\n<polygon fill=\"black\" stroke=\"black\" points=\"258.44,-135.43 255.52,-125.25 251.45,-135.03 258.44,-135.43\"/>\n</g>\n<!-- 3 -->\n<g id=\"node4\" class=\"node\">\n<title>3</title>\n<polygon fill=\"#c0c0c0\" stroke=\"black\" points=\"68,-36 14,-36 14,0 68,0 68,-36\"/>\n<text text-anchor=\"middle\" x=\"41\" y=\"-14.3\" font-family=\"Helvetica,sans-Serif\" font-size=\"14.00\">(...)</text>\n</g>\n<!-- 2&#45;&gt;3 -->\n<g id=\"edge3\" class=\"edge\">\n<title>2&#45;&gt;3</title>\n<path fill=\"none\" stroke=\"black\" d=\"M65.21,-71.8C61.34,-63.35 57.03,-53.95 53.13,-45.45\"/>\n<polygon fill=\"black\" stroke=\"black\" points=\"56.3,-43.96 48.95,-36.33 49.93,-46.88 56.3,-43.96\"/>\n</g>\n<!-- 16 -->\n<g id=\"node5\" class=\"node\">\n<title>16</title>\n<polygon fill=\"#c0c0c0\" stroke=\"black\" points=\"140,-36 86,-36 86,0 140,0 140,-36\"/>\n<text text-anchor=\"middle\" x=\"113\" y=\"-14.3\" font-family=\"Helvetica,sans-Serif\" font-size=\"14.00\">(...)</text>\n</g>\n<!-- 2&#45;&gt;16 -->\n<g id=\"edge4\" class=\"edge\">\n<title>2&#45;&gt;16</title>\n<path fill=\"none\" stroke=\"black\" d=\"M88.79,-71.8C92.66,-63.35 96.97,-53.95 100.87,-45.45\"/>\n<polygon fill=\"black\" stroke=\"black\" points=\"104.07,-46.88 105.05,-36.33 97.7,-43.96 104.07,-46.88\"/>\n</g>\n<!-- 36 -->\n<g id=\"node7\" class=\"node\">\n<title>36</title>\n<polygon fill=\"#c0c0c0\" stroke=\"black\" points=\"266,-36 212,-36 212,0 266,0 266,-36\"/>\n<text text-anchor=\"middle\" x=\"239\" y=\"-14.3\" font-family=\"Helvetica,sans-Serif\" font-size=\"14.00\">(...)</text>\n</g>\n<!-- 35&#45;&gt;36 -->\n<g id=\"edge6\" class=\"edge\">\n<title>35&#45;&gt;36</title>\n<path fill=\"none\" stroke=\"black\" d=\"M251.11,-71.8C249.23,-63.62 247.15,-54.55 245.25,-46.27\"/>\n<polygon fill=\"black\" stroke=\"black\" points=\"248.62,-45.3 242.97,-36.33 241.8,-46.86 248.62,-45.3\"/>\n</g>\n<!-- 37 -->\n<g id=\"node8\" class=\"node\">\n<title>37</title>\n<polygon fill=\"#c0c0c0\" stroke=\"black\" points=\"338,-36 284,-36 284,0 338,0 338,-36\"/>\n<text text-anchor=\"middle\" x=\"311\" y=\"-14.3\" font-family=\"Helvetica,sans-Serif\" font-size=\"14.00\">(...)</text>\n</g>\n<!-- 35&#45;&gt;37 -->\n<g id=\"edge7\" class=\"edge\">\n<title>35&#45;&gt;37</title>\n<path fill=\"none\" stroke=\"black\" d=\"M274.68,-71.8C280.68,-63.08 287.38,-53.34 293.37,-44.63\"/>\n<polygon fill=\"black\" stroke=\"black\" points=\"296.29,-46.55 299.08,-36.33 290.53,-42.59 296.29,-46.55\"/>\n</g>\n<!-- 41 -->\n<g id=\"node10\" class=\"node\">\n<title>41</title>\n<polygon fill=\"#d1e8f9\" stroke=\"black\" points=\"559.5,-125 368.5,-125 368.5,-72 559.5,-72 559.5,-125\"/>\n<text text-anchor=\"middle\" x=\"464\" y=\"-109.8\" font-family=\"Helvetica,sans-Serif\" font-size=\"14.00\">BwdInitWinBytes &lt;= 63441.5</text>\n<text text-anchor=\"middle\" x=\"464\" y=\"-94.8\" font-family=\"Helvetica,sans-Serif\" font-size=\"14.00\">samples = 20.1%</text>\n<text text-anchor=\"middle\" x=\"464\" y=\"-79.8\" font-family=\"Helvetica,sans-Serif\" font-size=\"14.00\">value = [0.435, 0.565]</text>\n</g>\n<!-- 40&#45;&gt;41 -->\n<g id=\"edge9\" class=\"edge\">\n<title>40&#45;&gt;41</title>\n<path fill=\"none\" stroke=\"black\" d=\"M467.53,-160.87C467.07,-152.89 466.55,-143.93 466.06,-135.38\"/>\n<polygon fill=\"black\" stroke=\"black\" points=\"469.55,-135.03 465.48,-125.25 462.56,-135.43 469.55,-135.03\"/>\n</g>\n<!-- 70 -->\n<g id=\"node13\" class=\"node\">\n<title>70</title>\n<polygon fill=\"#e58139\" stroke=\"black\" points=\"694.5,-117.5 577.5,-117.5 577.5,-79.5 694.5,-79.5 694.5,-117.5\"/>\n<text text-anchor=\"middle\" x=\"636\" y=\"-102.3\" font-family=\"Helvetica,sans-Serif\" font-size=\"14.00\">samples = 0.8%</text>\n<text text-anchor=\"middle\" x=\"636\" y=\"-87.3\" font-family=\"Helvetica,sans-Serif\" font-size=\"14.00\">value = [1.0, 0.0]</text>\n</g>\n<!-- 40&#45;&gt;70 -->\n<g id=\"edge12\" class=\"edge\">\n<title>40&#45;&gt;70</title>\n<path fill=\"none\" stroke=\"black\" d=\"M518.2,-160.87C541.71,-148.62 569.61,-134.09 592.35,-122.24\"/>\n<polygon fill=\"black\" stroke=\"black\" points=\"594.18,-125.23 601.44,-117.51 590.95,-119.02 594.18,-125.23\"/>\n</g>\n<!-- 42 -->\n<g id=\"node11\" class=\"node\">\n<title>42</title>\n<polygon fill=\"#c0c0c0\" stroke=\"black\" points=\"437,-36 383,-36 383,0 437,0 437,-36\"/>\n<text text-anchor=\"middle\" x=\"410\" y=\"-14.3\" font-family=\"Helvetica,sans-Serif\" font-size=\"14.00\">(...)</text>\n</g>\n<!-- 41&#45;&gt;42 -->\n<g id=\"edge10\" class=\"edge\">\n<title>41&#45;&gt;42</title>\n<path fill=\"none\" stroke=\"black\" d=\"M446.32,-71.8C440.32,-63.08 433.62,-53.34 427.63,-44.63\"/>\n<polygon fill=\"black\" stroke=\"black\" points=\"430.47,-42.59 421.92,-36.33 424.71,-46.55 430.47,-42.59\"/>\n</g>\n<!-- 47 -->\n<g id=\"node12\" class=\"node\">\n<title>47</title>\n<polygon fill=\"#c0c0c0\" stroke=\"black\" points=\"509,-36 455,-36 455,0 509,0 509,-36\"/>\n<text text-anchor=\"middle\" x=\"482\" y=\"-14.3\" font-family=\"Helvetica,sans-Serif\" font-size=\"14.00\">(...)</text>\n</g>\n<!-- 41&#45;&gt;47 -->\n<g id=\"edge11\" class=\"edge\">\n<title>41&#45;&gt;47</title>\n<path fill=\"none\" stroke=\"black\" d=\"M469.89,-71.8C471.77,-63.62 473.85,-54.55 475.75,-46.27\"/>\n<polygon fill=\"black\" stroke=\"black\" points=\"479.2,-46.86 478.03,-36.33 472.38,-45.3 479.2,-46.86\"/>\n</g>\n</g>\n</svg>\n",
      "text/plain": "<graphviz.sources.Source at 0x7ff1f34cbac0>"
     },
     "metadata": {},
     "output_type": "display_data"
    },
    {
     "data": {
      "image/svg+xml": "<?xml version=\"1.0\" encoding=\"UTF-8\" standalone=\"no\"?>\n<!DOCTYPE svg PUBLIC \"-//W3C//DTD SVG 1.1//EN\"\n \"http://www.w3.org/Graphics/SVG/1.1/DTD/svg11.dtd\">\n<!-- Generated by graphviz version 2.50.0 (0)\n -->\n<!-- Title: Tree Pages: 1 -->\n<svg width=\"721pt\" height=\"311pt\"\n viewBox=\"0.00 0.00 721.00 311.00\" xmlns=\"http://www.w3.org/2000/svg\" xmlns:xlink=\"http://www.w3.org/1999/xlink\">\n<g id=\"graph0\" class=\"graph\" transform=\"scale(1 1) rotate(0) translate(4 307)\">\n<title>Tree</title>\n<polygon fill=\"white\" stroke=\"transparent\" points=\"-4,4 -4,-307 717,-307 717,4 -4,4\"/>\n<!-- 0 -->\n<g id=\"node1\" class=\"node\">\n<title>0</title>\n<polygon fill=\"#eca470\" stroke=\"black\" points=\"447,-303 256,-303 256,-250 447,-250 447,-303\"/>\n<text text-anchor=\"middle\" x=\"351.5\" y=\"-287.8\" font-family=\"Helvetica,sans-Serif\" font-size=\"14.00\">FwdInitWinBytes &lt;= 64887.5</text>\n<text text-anchor=\"middle\" x=\"351.5\" y=\"-272.8\" font-family=\"Helvetica,sans-Serif\" font-size=\"14.00\">samples = 100.0%</text>\n<text text-anchor=\"middle\" x=\"351.5\" y=\"-257.8\" font-family=\"Helvetica,sans-Serif\" font-size=\"14.00\">value = [0.784, 0.216]</text>\n</g>\n<!-- 1 -->\n<g id=\"node2\" class=\"node\">\n<title>1</title>\n<polygon fill=\"#e99558\" stroke=\"black\" points=\"350,-214 159,-214 159,-161 350,-161 350,-214\"/>\n<text text-anchor=\"middle\" x=\"254.5\" y=\"-198.8\" font-family=\"Helvetica,sans-Serif\" font-size=\"14.00\">FwdInitWinBytes &lt;= 42872.5</text>\n<text text-anchor=\"middle\" x=\"254.5\" y=\"-183.8\" font-family=\"Helvetica,sans-Serif\" font-size=\"14.00\">samples = 80.5%</text>\n<text text-anchor=\"middle\" x=\"254.5\" y=\"-168.8\" font-family=\"Helvetica,sans-Serif\" font-size=\"14.00\">value = [0.865, 0.135]</text>\n</g>\n<!-- 0&#45;&gt;1 -->\n<g id=\"edge1\" class=\"edge\">\n<title>0&#45;&gt;1</title>\n<path fill=\"none\" stroke=\"black\" d=\"M322.92,-249.87C312.85,-240.83 301.39,-230.55 290.76,-221.03\"/>\n<polygon fill=\"black\" stroke=\"black\" points=\"292.99,-218.32 283.21,-214.25 288.32,-223.53 292.99,-218.32\"/>\n<text text-anchor=\"middle\" x=\"284.57\" y=\"-235.51\" font-family=\"Helvetica,sans-Serif\" font-size=\"14.00\">True</text>\n</g>\n<!-- 28 -->\n<g id=\"node7\" class=\"node\">\n<title>28</title>\n<polygon fill=\"#d6ebfa\" stroke=\"black\" points=\"529,-214 368,-214 368,-161 529,-161 529,-214\"/>\n<text text-anchor=\"middle\" x=\"448.5\" y=\"-198.8\" font-family=\"Helvetica,sans-Serif\" font-size=\"14.00\">FlowDuration &lt;= 90.718</text>\n<text text-anchor=\"middle\" x=\"448.5\" y=\"-183.8\" font-family=\"Helvetica,sans-Serif\" font-size=\"14.00\">samples = 19.5%</text>\n<text text-anchor=\"middle\" x=\"448.5\" y=\"-168.8\" font-family=\"Helvetica,sans-Serif\" font-size=\"14.00\">value = [0.443, 0.557]</text>\n</g>\n<!-- 0&#45;&gt;28 -->\n<g id=\"edge6\" class=\"edge\">\n<title>0&#45;&gt;28</title>\n<path fill=\"none\" stroke=\"black\" d=\"M380.08,-249.87C390.15,-240.83 401.61,-230.55 412.24,-221.03\"/>\n<polygon fill=\"black\" stroke=\"black\" points=\"414.68,-223.53 419.79,-214.25 410.01,-218.32 414.68,-223.53\"/>\n<text text-anchor=\"middle\" x=\"418.43\" y=\"-235.51\" font-family=\"Helvetica,sans-Serif\" font-size=\"14.00\">False</text>\n</g>\n<!-- 2 -->\n<g id=\"node3\" class=\"node\">\n<title>2</title>\n<polygon fill=\"#eca16b\" stroke=\"black\" points=\"183,-125 0,-125 0,-72 183,-72 183,-125\"/>\n<text text-anchor=\"middle\" x=\"91.5\" y=\"-109.8\" font-family=\"Helvetica,sans-Serif\" font-size=\"14.00\">FwdInitWinBytes &lt;= 1963.5</text>\n<text text-anchor=\"middle\" x=\"91.5\" y=\"-94.8\" font-family=\"Helvetica,sans-Serif\" font-size=\"14.00\">samples = 54.8%</text>\n<text text-anchor=\"middle\" x=\"91.5\" y=\"-79.8\" font-family=\"Helvetica,sans-Serif\" font-size=\"14.00\">value = [0.799, 0.201]</text>\n</g>\n<!-- 1&#45;&gt;2 -->\n<g id=\"edge2\" class=\"edge\">\n<title>1&#45;&gt;2</title>\n<path fill=\"none\" stroke=\"black\" d=\"M206.48,-160.87C188.24,-151.13 167.29,-139.95 148.31,-129.82\"/>\n<polygon fill=\"black\" stroke=\"black\" points=\"149.93,-126.72 139.46,-125.1 146.64,-132.9 149.93,-126.72\"/>\n</g>\n<!-- 27 -->\n<g id=\"node6\" class=\"node\">\n<title>27</title>\n<polygon fill=\"#e58139\" stroke=\"black\" points=\"323.5,-117.5 201.5,-117.5 201.5,-79.5 323.5,-79.5 323.5,-117.5\"/>\n<text text-anchor=\"middle\" x=\"262.5\" y=\"-102.3\" font-family=\"Helvetica,sans-Serif\" font-size=\"14.00\">samples = 25.8%</text>\n<text text-anchor=\"middle\" x=\"262.5\" y=\"-87.3\" font-family=\"Helvetica,sans-Serif\" font-size=\"14.00\">value = [1.0, 0.0]</text>\n</g>\n<!-- 1&#45;&gt;27 -->\n<g id=\"edge5\" class=\"edge\">\n<title>1&#45;&gt;27</title>\n<path fill=\"none\" stroke=\"black\" d=\"M256.86,-160.87C257.82,-150.42 258.93,-138.3 259.92,-127.61\"/>\n<polygon fill=\"black\" stroke=\"black\" points=\"263.41,-127.79 260.84,-117.51 256.44,-127.14 263.41,-127.79\"/>\n</g>\n<!-- 3 -->\n<g id=\"node4\" class=\"node\">\n<title>3</title>\n<polygon fill=\"#c0c0c0\" stroke=\"black\" points=\"82.5,-36 28.5,-36 28.5,0 82.5,0 82.5,-36\"/>\n<text text-anchor=\"middle\" x=\"55.5\" y=\"-14.3\" font-family=\"Helvetica,sans-Serif\" font-size=\"14.00\">(...)</text>\n</g>\n<!-- 2&#45;&gt;3 -->\n<g id=\"edge3\" class=\"edge\">\n<title>2&#45;&gt;3</title>\n<path fill=\"none\" stroke=\"black\" d=\"M79.71,-71.8C75.84,-63.35 71.53,-53.95 67.63,-45.45\"/>\n<polygon fill=\"black\" stroke=\"black\" points=\"70.8,-43.96 63.45,-36.33 64.43,-46.88 70.8,-43.96\"/>\n</g>\n<!-- 8 -->\n<g id=\"node5\" class=\"node\">\n<title>8</title>\n<polygon fill=\"#c0c0c0\" stroke=\"black\" points=\"154.5,-36 100.5,-36 100.5,0 154.5,0 154.5,-36\"/>\n<text text-anchor=\"middle\" x=\"127.5\" y=\"-14.3\" font-family=\"Helvetica,sans-Serif\" font-size=\"14.00\">(...)</text>\n</g>\n<!-- 2&#45;&gt;8 -->\n<g id=\"edge4\" class=\"edge\">\n<title>2&#45;&gt;8</title>\n<path fill=\"none\" stroke=\"black\" d=\"M103.29,-71.8C107.16,-63.35 111.47,-53.95 115.37,-45.45\"/>\n<polygon fill=\"black\" stroke=\"black\" points=\"118.57,-46.88 119.55,-36.33 112.2,-43.96 118.57,-46.88\"/>\n</g>\n<!-- 29 -->\n<g id=\"node8\" class=\"node\">\n<title>29</title>\n<polygon fill=\"#78bced\" stroke=\"black\" points=\"526,-125 357,-125 357,-72 526,-72 526,-125\"/>\n<text text-anchor=\"middle\" x=\"441.5\" y=\"-109.8\" font-family=\"Helvetica,sans-Serif\" font-size=\"14.00\">TotalFwdPackets &lt;= 13.5</text>\n<text text-anchor=\"middle\" x=\"441.5\" y=\"-94.8\" font-family=\"Helvetica,sans-Serif\" font-size=\"14.00\">samples = 7.7%</text>\n<text text-anchor=\"middle\" x=\"441.5\" y=\"-79.8\" font-family=\"Helvetica,sans-Serif\" font-size=\"14.00\">value = [0.241, 0.759]</text>\n</g>\n<!-- 28&#45;&gt;29 -->\n<g id=\"edge7\" class=\"edge\">\n<title>28&#45;&gt;29</title>\n<path fill=\"none\" stroke=\"black\" d=\"M446.44,-160.87C445.8,-152.89 445.07,-143.93 444.39,-135.38\"/>\n<polygon fill=\"black\" stroke=\"black\" points=\"447.86,-134.94 443.57,-125.25 440.89,-135.5 447.86,-134.94\"/>\n</g>\n<!-- 40 -->\n<g id=\"node11\" class=\"node\">\n<title>40</title>\n<polygon fill=\"#f7dac5\" stroke=\"black\" points=\"713,-125 544,-125 544,-72 713,-72 713,-125\"/>\n<text text-anchor=\"middle\" x=\"628.5\" y=\"-109.8\" font-family=\"Helvetica,sans-Serif\" font-size=\"14.00\">FlowDuration &lt;= 116.946</text>\n<text text-anchor=\"middle\" x=\"628.5\" y=\"-94.8\" font-family=\"Helvetica,sans-Serif\" font-size=\"14.00\">samples = 11.8%</text>\n<text text-anchor=\"middle\" x=\"628.5\" y=\"-79.8\" font-family=\"Helvetica,sans-Serif\" font-size=\"14.00\">value = [0.585, 0.415]</text>\n</g>\n<!-- 28&#45;&gt;40 -->\n<g id=\"edge10\" class=\"edge\">\n<title>28&#45;&gt;40</title>\n<path fill=\"none\" stroke=\"black\" d=\"M501.53,-160.87C521.86,-151.04 545.23,-139.75 566.33,-129.55\"/>\n<polygon fill=\"black\" stroke=\"black\" points=\"568.06,-132.6 575.54,-125.1 565.01,-126.3 568.06,-132.6\"/>\n</g>\n<!-- 30 -->\n<g id=\"node9\" class=\"node\">\n<title>30</title>\n<polygon fill=\"#c0c0c0\" stroke=\"black\" points=\"432.5,-36 378.5,-36 378.5,0 432.5,0 432.5,-36\"/>\n<text text-anchor=\"middle\" x=\"405.5\" y=\"-14.3\" font-family=\"Helvetica,sans-Serif\" font-size=\"14.00\">(...)</text>\n</g>\n<!-- 29&#45;&gt;30 -->\n<g id=\"edge8\" class=\"edge\">\n<title>29&#45;&gt;30</title>\n<path fill=\"none\" stroke=\"black\" d=\"M429.71,-71.8C425.84,-63.35 421.53,-53.95 417.63,-45.45\"/>\n<polygon fill=\"black\" stroke=\"black\" points=\"420.8,-43.96 413.45,-36.33 414.43,-46.88 420.8,-43.96\"/>\n</g>\n<!-- 37 -->\n<g id=\"node10\" class=\"node\">\n<title>37</title>\n<polygon fill=\"#c0c0c0\" stroke=\"black\" points=\"504.5,-36 450.5,-36 450.5,0 504.5,0 504.5,-36\"/>\n<text text-anchor=\"middle\" x=\"477.5\" y=\"-14.3\" font-family=\"Helvetica,sans-Serif\" font-size=\"14.00\">(...)</text>\n</g>\n<!-- 29&#45;&gt;37 -->\n<g id=\"edge9\" class=\"edge\">\n<title>29&#45;&gt;37</title>\n<path fill=\"none\" stroke=\"black\" d=\"M453.29,-71.8C457.16,-63.35 461.47,-53.95 465.37,-45.45\"/>\n<polygon fill=\"black\" stroke=\"black\" points=\"468.57,-46.88 469.55,-36.33 462.2,-43.96 468.57,-46.88\"/>\n</g>\n<!-- 41 -->\n<g id=\"node12\" class=\"node\">\n<title>41</title>\n<polygon fill=\"#c0c0c0\" stroke=\"black\" points=\"619.5,-36 565.5,-36 565.5,0 619.5,0 619.5,-36\"/>\n<text text-anchor=\"middle\" x=\"592.5\" y=\"-14.3\" font-family=\"Helvetica,sans-Serif\" font-size=\"14.00\">(...)</text>\n</g>\n<!-- 40&#45;&gt;41 -->\n<g id=\"edge11\" class=\"edge\">\n<title>40&#45;&gt;41</title>\n<path fill=\"none\" stroke=\"black\" d=\"M616.71,-71.8C612.84,-63.35 608.53,-53.95 604.63,-45.45\"/>\n<polygon fill=\"black\" stroke=\"black\" points=\"607.8,-43.96 600.45,-36.33 601.43,-46.88 607.8,-43.96\"/>\n</g>\n<!-- 46 -->\n<g id=\"node13\" class=\"node\">\n<title>46</title>\n<polygon fill=\"#c0c0c0\" stroke=\"black\" points=\"691.5,-36 637.5,-36 637.5,0 691.5,0 691.5,-36\"/>\n<text text-anchor=\"middle\" x=\"664.5\" y=\"-14.3\" font-family=\"Helvetica,sans-Serif\" font-size=\"14.00\">(...)</text>\n</g>\n<!-- 40&#45;&gt;46 -->\n<g id=\"edge12\" class=\"edge\">\n<title>40&#45;&gt;46</title>\n<path fill=\"none\" stroke=\"black\" d=\"M640.29,-71.8C644.16,-63.35 648.47,-53.95 652.37,-45.45\"/>\n<polygon fill=\"black\" stroke=\"black\" points=\"655.57,-46.88 656.55,-36.33 649.2,-43.96 655.57,-46.88\"/>\n</g>\n</g>\n</svg>\n",
      "text/plain": "<graphviz.sources.Source at 0x7ff1f34c9900>"
     },
     "metadata": {},
     "output_type": "display_data"
    }
   ],
   "source": [
    "from sklearn.tree import export_graphviz\n",
    "import graphviz\n",
    "import pickle\n",
    "\n",
    "# Save the model to disk uncomment to save it\n",
    "# filename = 'darknet_model.sav'\n",
    "# pickle.dump(clf, open(filename, 'wb'))\n",
    "\n",
    "# Plot the decision trees\n",
    "for i in range(3):\n",
    "    tree = best.estimators_[i]\n",
    "    dot_data = export_graphviz(tree,\n",
    "                               feature_names=X_train.columns,  \n",
    "                               filled=True,  \n",
    "                               max_depth=2, \n",
    "                               impurity=False, \n",
    "                               proportion=True)\n",
    "    graph = graphviz.Source(dot_data)\n",
    "    display(graph)"
   ]
  }
 ],
 "metadata": {
  "kernelspec": {
   "display_name": "Python 3 (ipykernel)",
   "language": "python",
   "name": "python3"
  },
  "language_info": {
   "codemirror_mode": {
    "name": "ipython",
    "version": 3
   },
   "file_extension": ".py",
   "mimetype": "text/x-python",
   "name": "python",
   "nbconvert_exporter": "python",
   "pygments_lexer": "ipython3",
   "version": "3.11.5"
  }
 },
 "nbformat": 4,
 "nbformat_minor": 2
}
